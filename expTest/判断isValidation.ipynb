{
 "cells": [
  {
   "cell_type": "code",
   "id": "initial_id",
   "metadata": {
    "collapsed": true,
    "ExecuteTime": {
     "end_time": "2025-06-24T10:14:10.218548Z",
     "start_time": "2025-06-24T10:14:10.207861Z"
    }
   },
   "source": [
    "import sympy\n",
    "import re\n",
    "import logging\n",
    "from typing import List\n",
    "\n",
    "# 示例中你应该已经有这个函数\n",
    "def ProtectedSqrt(x):\n",
    "    return sympy.sqrt(x) if x >= 0 else sympy.sqrt(abs(x))\n",
    "\n",
    "# 可选：替换 square(x) 为 x**2 或根号\n",
    "def convert_square_to_root(expr):\n",
    "    return re.sub(r'square\\((.*?)\\)', r'(\\1)**2', expr)\n",
    "\n",
    "def is_valid_expression(expression: str) -> bool:\n",
    "    try:\n",
    "        print(f\"\\n🔍 原始表达式: {expression}\")\n",
    "\n",
    "        # 替换 square(x) -> (x)**2\n",
    "        expression = convert_square_to_root(expression)\n",
    "        print(f\"🔧 替换 square 后: {expression}\")\n",
    "\n",
    "        # 替换 sqrt(x) -> ProtectedSqrt(x)\n",
    "        expression = re.sub(r'sqrt\\((.*?)\\)', r'ProtectedSqrt(\\1)', expression)\n",
    "        print(f\"🔧 替换 sqrt 后: {expression}\")\n",
    "\n",
    "        # 定义符号变量\n",
    "        TCT, TWT, TNC, TUT, TPS,ACT = sympy.symbols('TCT TWT TNC TUT TPS ACT')\n",
    "\n",
    "        # 转为 SymPy 表达式\n",
    "        expr = sympy.sympify(expression, evaluate=False, locals={'ProtectedSqrt': ProtectedSqrt})\n",
    "        print(f\"✅ SymPy 表达式: {expr}\")\n",
    "\n",
    "        # 代入具体值计算\n",
    "        result = expr.subs({TCT: 1.1, TWT: 1.2, TNC: 1.3, TUT: 1.4, TPS: 1.5, ACT: 1.6})\n",
    "        print(f\"📈 代入值后结果: {result}\")\n",
    "\n",
    "        return result.is_real\n",
    "\n",
    "    except (sympy.SympifyError, TypeError, Exception) as e:\n",
    "        print(f\"❌ 表达式解析失败: {e}\")\n",
    "        return False\n",
    "def are_expressions_valid(expressions: List[str]) -> bool:\n",
    "    print(\"\\n==============================\")\n",
    "    print(\"🧪 正在检查两个表达式是否都合法\")\n",
    "    if len(expressions) != 2:\n",
    "        print(\"❌ 表达式数量不是两个！\")\n",
    "        return False\n",
    "\n",
    "    results = []\n",
    "    for i, expr in enumerate(expressions):\n",
    "        print(f\"\\n📘 检查表达式 {i + 1}:\")\n",
    "        result = is_valid_expression(expr)\n",
    "        results.append(result)\n",
    "\n",
    "    print(\"\\n✅ 总体判断结果:\", all(results))\n",
    "    return all(results)\n"
   ],
   "outputs": [],
   "execution_count": 12
  },
  {
   "metadata": {
    "ExecuteTime": {
     "end_time": "2025-06-24T10:14:11.299831Z",
     "start_time": "2025-06-24T10:14:11.215704Z"
    }
   },
   "cell_type": "code",
   "source": [
    "content={\n",
    "  \"expressions\": [\n",
    "    \"min(ACT + ACT - TCT / TCT * max(TPS, TNC) / TWT / TWT, TWT - TPS - max(TPS, TNC) - TCT + ACT / max(TWT, ACT))\",\n",
    "    \"min(max(min(TPS / TNC, TCT + TCT), TCT + TNC * max(TNC, TCT)), -(-(TWT)) - min(TCT, TPS) - TWT / ACT)\"\n",
    "  ]\n",
    "}\n",
    "\n",
    "valid = are_expressions_valid(content[\"expressions\"])\n",
    "print(\"是否两个表达式都合法:\", valid)\n"
   ],
   "id": "fee37ebd4d644396",
   "outputs": [
    {
     "name": "stdout",
     "output_type": "stream",
     "text": [
      "\n",
      "==============================\n",
      "🧪 正在检查两个表达式是否都合法\n",
      "\n",
      "📘 检查表达式 1:\n",
      "\n",
      "🔍 原始表达式: min(ACT + ACT - TCT / TCT * max(TPS, TNC) / TWT / TWT, TWT - TPS - max(TPS, TNC) - TCT + ACT / max(TWT, ACT))\n",
      "🔧 替换 square 后: min(ACT + ACT - TCT / TCT * max(TPS, TNC) / TWT / TWT, TWT - TPS - max(TPS, TNC) - TCT + ACT / max(TWT, ACT))\n",
      "🔧 替换 sqrt 后: min(ACT + ACT - TCT / TCT * max(TPS, TNC) / TWT / TWT, TWT - TPS - max(TPS, TNC) - TCT + ACT / max(TWT, ACT))\n",
      "✅ SymPy 表达式: Min(ACT + ACT - TCT*Max(TNC, TPS)/(TCT*TWT*TWT), ACT/Max(ACT, TWT) - TCT - TPS + TWT - Max(TNC, TPS))\n",
      "📈 代入值后结果: -1.90000000000000\n",
      "\n",
      "📘 检查表达式 2:\n",
      "\n",
      "🔍 原始表达式: min(max(min(TPS / TNC, TCT + TCT), TCT + TNC * max(TNC, TCT)), -(-(TWT)) - min(TCT, TPS) - TWT / ACT)\n",
      "🔧 替换 square 后: min(max(min(TPS / TNC, TCT + TCT), TCT + TNC * max(TNC, TCT)), -(-(TWT)) - min(TCT, TPS) - TWT / ACT)\n",
      "🔧 替换 sqrt 后: min(max(min(TPS / TNC, TCT + TCT), TCT + TNC * max(TNC, TCT)), -(-(TWT)) - min(TCT, TPS) - TWT / ACT)\n",
      "✅ SymPy 表达式: Min(TWT - Min(TCT, TPS) - TWT/ACT, Max(TCT + TNC*Max(TCT, TNC), Min(TPS/TNC, TCT + TCT)))\n",
      "📈 代入值后结果: -0.650000000000000\n",
      "\n",
      "✅ 总体判断结果: True\n",
      "是否两个表达式都合法: True\n"
     ]
    }
   ],
   "execution_count": 13
  },
  {
   "metadata": {},
   "cell_type": "code",
   "outputs": [],
   "execution_count": null,
   "source": "",
   "id": "7dede891cc94991a"
  }
 ],
 "metadata": {
  "kernelspec": {
   "display_name": "gc",
   "language": "python",
   "name": "gc"
  },
  "language_info": {
   "codemirror_mode": {
    "name": "ipython",
    "version": 2
   },
   "file_extension": ".py",
   "mimetype": "text/x-python",
   "name": "python",
   "nbconvert_exporter": "python",
   "pygments_lexer": "ipython2",
   "version": "2.7.6"
  }
 },
 "nbformat": 4,
 "nbformat_minor": 5
}
