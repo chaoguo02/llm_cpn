{
 "cells": [
  {
   "metadata": {
    "ExecuteTime": {
     "end_time": "2025-06-24T09:00:01.166202Z",
     "start_time": "2025-06-24T09:00:01.156077Z"
    }
   },
   "cell_type": "code",
   "source": [
    "import logging\n",
    "import json\n",
    "from typing import List\n",
    "import re"
   ],
   "id": "575af847fd6f39d4",
   "outputs": [],
   "execution_count": 1
  },
  {
   "metadata": {
    "collapsed": true,
    "ExecuteTime": {
     "end_time": "2025-06-24T10:25:56.613412Z",
     "start_time": "2025-06-24T10:25:56.603266Z"
    }
   },
   "cell_type": "code",
   "source": [
    "def check_response_crossover(response: str, parents: List[str]) -> List[str]:\n",
    "    \"\"\"\n",
    "    解析 LLM 生成的 `response`，提取 `expressions`，如果解析失败，则返回 `parents` 作为备选值。\n",
    "    增加调试信息输出，帮助追踪中间变量。\n",
    "    \"\"\"\n",
    "    try:\n",
    "        print(\"\\n📥 原始 response：\")\n",
    "        print(response)\n",
    "\n",
    "        response_cleaned = re.sub(r'```json\\n|```', '', response).replace('\\n', '')\n",
    "        print(\"\\n📃 清洗后的 response_cleaned：\")\n",
    "        print(response_cleaned)\n",
    "\n",
    "        match = re.search(r'\\\"expressions\\\"\\s*:\\s*\\[(.*?)\\]', response_cleaned, re.DOTALL)\n",
    "        if not match:\n",
    "            print(\"❌ 未找到 expressions 字段，返回 parents\")\n",
    "            return parents\n",
    "\n",
    "        expressions_string = match.group(1)\n",
    "        print(\"\\n🧩 提取出的 expressions_string：\")\n",
    "        print(expressions_string)\n",
    "\n",
    "        # 尝试提取 {} 包裹的结构（可能是 {\"expr\": \"...\"} 的格式）\n",
    "        expressions = re.findall(r'\\{([^\\}]+)\\}', expressions_string)\n",
    "        if expressions:\n",
    "            cleaned_exprs = [expr.strip().replace('\"', '') for expr in expressions]\n",
    "            print(\"\\n✅ 从大括号中提取的表达式 cleaned_exprs：\")\n",
    "            print(cleaned_exprs)\n",
    "            if len(cleaned_exprs) == 2:\n",
    "                return cleaned_exprs\n",
    "            else:\n",
    "                print(\"⚠️ 提取数量不足 2 个，返回 parents\")\n",
    "                return parents\n",
    "\n",
    "        # 尝试用逗号分割\n",
    "        final_exprs = [expr.strip().replace('\"', '').replace(\"{\", \"\").replace(\"}\", \"\")\n",
    "                       for expr in re.split(r'\\s*,\\s*', expressions_string)]\n",
    "\n",
    "        print(\"\\n🔍 逗号分割方式得到的 final_exprs：\")\n",
    "        print(final_exprs)\n",
    "\n",
    "        if len(final_exprs) == 2:\n",
    "            print(\"✅ 成功解析出两个表达式\")\n",
    "            return final_exprs\n",
    "        else:\n",
    "            print(\"⚠️ 表达式数量不足 2 个，返回 parents\")\n",
    "            return parents\n",
    "\n",
    "    except (ValueError, json.JSONDecodeError) as e:\n",
    "        logging.error(f\"解析 LLM 交叉变异响应失败: {e}\")\n",
    "        print(\"🚨 解析异常，返回 parents\")\n",
    "        return parents\n"
   ],
   "id": "initial_id",
   "outputs": [],
   "execution_count": 14
  },
  {
   "metadata": {
    "ExecuteTime": {
     "end_time": "2025-06-24T10:57:52.876156Z",
     "start_time": "2025-06-24T10:57:52.863786Z"
    }
   },
   "cell_type": "code",
   "source": [
    "import re\n",
    "import logging\n",
    "from typing import List\n",
    "\n",
    "def check_response_crossover(response: str, parents: List[str]) -> List[str]:\n",
    "    \"\"\"\n",
    "    健壮地从 LLM 的非标准 JSON 响应中提取 expressions（字符串列表），\n",
    "    避免使用 split(',') 导致的表达式拆分错误。\n",
    "    \"\"\"\n",
    "    try:\n",
    "        print(\"\\n📥 原始 response：\")\n",
    "        print(response)\n",
    "\n",
    "        # Step 1: 清洗 markdown 包装\n",
    "        response_cleaned = re.sub(r'```json\\n|```', '', response).strip()\n",
    "        print(\"\\n📃 清洗后的 response_cleaned：\")\n",
    "        print(response_cleaned)\n",
    "\n",
    "        # Step 2: 提取 expressions 字符串部分\n",
    "        match = re.search(r'\"expressions\"\\s*:\\s*\\[(.*?)\\]', response_cleaned, re.DOTALL)\n",
    "        if not match:\n",
    "            print(\"❌ 未能匹配 expressions 字段\")\n",
    "            return parents\n",
    "\n",
    "        expressions_block = match.group(1)\n",
    "        print(\"\\n🧩 提取出的 expressions_block：\")\n",
    "        print(expressions_block)\n",
    "\n",
    "        # Step 3: 用正则提取每个被引号包裹的完整表达式\n",
    "        expr_matches = re.findall(r'\"(.*?)\"', expressions_block)\n",
    "        print(\"\\n🧪 提取出的 expression 列表：\")\n",
    "        for idx, expr in enumerate(expr_matches):\n",
    "            print(f\"  Expression {idx+1}: {expr}\")\n",
    "\n",
    "        return expr_matches if len(expr_matches) == 2 else parents\n",
    "\n",
    "    except Exception as e:\n",
    "        logging.error(f\"解析 LLM 交叉表达式失败: {e}\")\n",
    "        print(f\"🚨 解析出错: {e}\")\n",
    "        return parents\n"
   ],
   "id": "1a4299026ab30be3",
   "outputs": [],
   "execution_count": 18
  },
  {
   "metadata": {
    "ExecuteTime": {
     "end_time": "2025-06-24T10:57:53.759400Z",
     "start_time": "2025-06-24T10:57:53.745363Z"
    }
   },
   "cell_type": "code",
   "source": [
    "def test_check_response_crossover(response: str, parents: List[str]):\n",
    "    \"\"\"\n",
    "    用于测试 check_response_crossover() 函数的实际表现。\n",
    "    打印输入、输出、并检查是否合理。\n",
    "    \"\"\"\n",
    "    print(\"🧪 ====== 测试 LLM 交叉响应解析 ======\")\n",
    "    print(\"📥 原始 response:\")\n",
    "    print(response)\n",
    "    print(\"👨‍👩‍👧‍👦 parents:\")\n",
    "    print(parents)\n",
    "\n",
    "    result = check_response_crossover(response, parents)\n",
    "\n",
    "    print(\"✅ 最终解析结果:\")\n",
    "    print(result)\n",
    "\n",
    "    # if result == parents:\n",
    "    #     print(\"⚠️ 使用了默认 parents（说明 response 结构可能不匹配或解析失败）\")\n",
    "    # elif len(result) != 2:\n",
    "    #     print(\"❌ 错误：返回表达式数量不为 2\")\n",
    "    # else:\n",
    "    #     print(\"🎉 成功提取 2 个表达式！\")\n"
   ],
   "id": "4e83d3ffd73860f3",
   "outputs": [],
   "execution_count": 19
  },
  {
   "metadata": {
    "ExecuteTime": {
     "end_time": "2025-06-24T10:57:54.673501Z",
     "start_time": "2025-06-24T10:57:54.657775Z"
    }
   },
   "cell_type": "code",
   "source": [
    "test_response = '{\\n  \"expressions\": [\\n    \"min(ACT + ACT - TCT / TCT * max(TPS, TNC) / TWT / TWT, TWT - TPS - max(TPS, TNC) - TCT + ACT / max(TWT, ACT))\",\\n    \"min(max(min(TPS / TNC, TCT + TCT), TCT + TNC * max(TNC, TCT)), -(-(TWT)) - min(TCT, TPS) - TWT / ACT)\"\\n  ]\\n}'\n",
    "parents = [\n",
    "    \"add(TCT, mul(TWT, TNC))\",\n",
    "    \"min(TNC, protect_div(TUT, TCT))\"\n",
    "]"
   ],
   "id": "2ce6f2a02c6bf982",
   "outputs": [],
   "execution_count": 20
  },
  {
   "metadata": {
    "ExecuteTime": {
     "end_time": "2025-06-24T10:57:55.997296Z",
     "start_time": "2025-06-24T10:57:55.977586Z"
    }
   },
   "cell_type": "code",
   "source": [
    "\n",
    "test_check_response_crossover(test_response, parents)"
   ],
   "id": "210e60500163364e",
   "outputs": [
    {
     "name": "stdout",
     "output_type": "stream",
     "text": [
      "🧪 ====== 测试 LLM 交叉响应解析 ======\n",
      "📥 原始 response:\n",
      "{\n",
      "  \"expressions\": [\n",
      "    \"min(ACT + ACT - TCT / TCT * max(TPS, TNC) / TWT / TWT, TWT - TPS - max(TPS, TNC) - TCT + ACT / max(TWT, ACT))\",\n",
      "    \"min(max(min(TPS / TNC, TCT + TCT), TCT + TNC * max(TNC, TCT)), -(-(TWT)) - min(TCT, TPS) - TWT / ACT)\"\n",
      "  ]\n",
      "}\n",
      "👨‍👩‍👧‍👦 parents:\n",
      "['add(TCT, mul(TWT, TNC))', 'min(TNC, protect_div(TUT, TCT))']\n",
      "\n",
      "📥 原始 response：\n",
      "{\n",
      "  \"expressions\": [\n",
      "    \"min(ACT + ACT - TCT / TCT * max(TPS, TNC) / TWT / TWT, TWT - TPS - max(TPS, TNC) - TCT + ACT / max(TWT, ACT))\",\n",
      "    \"min(max(min(TPS / TNC, TCT + TCT), TCT + TNC * max(TNC, TCT)), -(-(TWT)) - min(TCT, TPS) - TWT / ACT)\"\n",
      "  ]\n",
      "}\n",
      "\n",
      "📃 清洗后的 response_cleaned：\n",
      "{\n",
      "  \"expressions\": [\n",
      "    \"min(ACT + ACT - TCT / TCT * max(TPS, TNC) / TWT / TWT, TWT - TPS - max(TPS, TNC) - TCT + ACT / max(TWT, ACT))\",\n",
      "    \"min(max(min(TPS / TNC, TCT + TCT), TCT + TNC * max(TNC, TCT)), -(-(TWT)) - min(TCT, TPS) - TWT / ACT)\"\n",
      "  ]\n",
      "}\n",
      "\n",
      "🧩 提取出的 expressions_block：\n",
      "\n",
      "    \"min(ACT + ACT - TCT / TCT * max(TPS, TNC) / TWT / TWT, TWT - TPS - max(TPS, TNC) - TCT + ACT / max(TWT, ACT))\",\n",
      "    \"min(max(min(TPS / TNC, TCT + TCT), TCT + TNC * max(TNC, TCT)), -(-(TWT)) - min(TCT, TPS) - TWT / ACT)\"\n",
      "  \n",
      "\n",
      "🧪 提取出的 expression 列表：\n",
      "  Expression 1: min(ACT + ACT - TCT / TCT * max(TPS, TNC) / TWT / TWT, TWT - TPS - max(TPS, TNC) - TCT + ACT / max(TWT, ACT))\n",
      "  Expression 2: min(max(min(TPS / TNC, TCT + TCT), TCT + TNC * max(TNC, TCT)), -(-(TWT)) - min(TCT, TPS) - TWT / ACT)\n",
      "✅ 最终解析结果:\n",
      "['min(ACT + ACT - TCT / TCT * max(TPS, TNC) / TWT / TWT, TWT - TPS - max(TPS, TNC) - TCT + ACT / max(TWT, ACT))', 'min(max(min(TPS / TNC, TCT + TCT), TCT + TNC * max(TNC, TCT)), -(-(TWT)) - min(TCT, TPS) - TWT / ACT)']\n"
     ]
    }
   ],
   "execution_count": 21
  },
  {
   "metadata": {},
   "cell_type": "code",
   "outputs": [],
   "execution_count": null,
   "source": "",
   "id": "a9e3341bc45f3f77"
  }
 ],
 "metadata": {
  "kernelspec": {
   "display_name": "gc",
   "language": "python",
   "name": "gc"
  },
  "language_info": {
   "codemirror_mode": {
    "name": "ipython",
    "version": 2
   },
   "file_extension": ".py",
   "mimetype": "text/x-python",
   "name": "python",
   "nbconvert_exporter": "python",
   "pygments_lexer": "ipython2",
   "version": "2.7.6"
  }
 },
 "nbformat": 4,
 "nbformat_minor": 5
}
